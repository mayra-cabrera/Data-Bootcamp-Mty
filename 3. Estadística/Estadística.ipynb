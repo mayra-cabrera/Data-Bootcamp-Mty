{
 "cells": [
  {
   "cell_type": "markdown",
   "metadata": {},
   "source": [
    "### Los datos son baratos pero el conocimiento es más difícil de conseguir"
   ]
  },
  {
   "cell_type": "markdown",
   "metadata": {},
   "source": [
    "## Estadística Descriptiva\n",
    "\n",
    "Empezar a entender mis datos."
   ]
  },
  {
   "cell_type": "markdown",
   "metadata": {},
   "source": [
    "### Media\n",
    "\n",
    "Si se tiene una muestra de $n$ valores: $x_i$ \n",
    "La media $\\mu$ es la suma de los valores dividido por el número de valores\n",
    "\n",
    "$$ \\mu = \\frac{1}{n} \\sum_{i}^{n} x_i $$"
   ]
  },
  {
   "cell_type": "code",
   "execution_count": 1,
   "metadata": {
    "collapsed": false
   },
   "outputs": [
    {
     "data": {
      "text/plain": [
       "29.69911764705882"
      ]
     },
     "execution_count": 1,
     "metadata": {},
     "output_type": "execute_result"
    }
   ],
   "source": [
    "import pandas as pd\n",
    "import numpy as np\n",
    "\n",
    "data = pd.read_csv(\"train.csv\")\n",
    "media_edad = np.mean(data['Age'])\n",
    "media_edad"
   ]
  },
  {
   "cell_type": "markdown",
   "metadata": {},
   "source": [
    "La media se encarga de describir la tendencia central de nuestros datos.\n",
    "¡Importante!, esta media $\\mu$ se usa para describir a una población completa."
   ]
  },
  {
   "cell_type": "markdown",
   "metadata": {},
   "source": [
    "### Varianza\n",
    "\n",
    "Otro valor estadístico que nos ayuda a entender nuestros datos es la Varianza. A diferencia de la media que describe la tendencia de en donde se centran nuestros datos, la varianza describe que tan lejos se encuentran los datos de la media.\n",
    "\n",
    "$$ \\sigma^2 = \\frac{1}{n} \\sum_{i}^{n} (x_i - \\mu)^2 $$"
   ]
  },
  {
   "cell_type": "code",
   "execution_count": 8,
   "metadata": {
    "collapsed": false
   },
   "outputs": [
    {
     "data": {
      "text/plain": [
       "210.7235797536662"
      ]
     },
     "execution_count": 8,
     "metadata": {},
     "output_type": "execute_result"
    }
   ],
   "source": [
    "varianza_edad = np.var(data['Age'])\n",
    "varianza_edad"
   ]
  },
  {
   "cell_type": "markdown",
   "metadata": {},
   "source": [
    "¿Años al cuadrado?\n",
    "La varianza es difícil de interpretar debido a las unidades.\n",
    "\n",
    "Por suerte la desviación estándar es un estadístico más significativo.\n",
    "\n",
    "### Desviación estándar\n",
    "\n",
    "$$ \\sigma =  \\sqrt{\\sigma}  $$"
   ]
  },
  {
   "cell_type": "code",
   "execution_count": 12,
   "metadata": {
    "collapsed": false
   },
   "outputs": [
    {
     "data": {
      "text/plain": [
       "14.516321150817317"
      ]
     },
     "execution_count": 12,
     "metadata": {},
     "output_type": "execute_result"
    }
   ],
   "source": [
    "desviacion_edad = np.std(data['Age'])\n",
    "desviacion_edad"
   ]
  },
  {
   "cell_type": "markdown",
   "metadata": {
    "collapsed": true
   },
   "source": [
    "¡Importante!, estas formulas para $\\sigma^2$ y $\\sigma$ se usan para describir a una población completa.\n",
    "\n",
    "Si lidiamos con una muestra de N valores se usan estimadores, $\\bar{x}$ y $S^2$\n",
    "\n",
    "$$ \\bar{x} = \\frac{1}{N} \\sum_{i}^{N} x_i $$\n",
    "\n",
    "$$ S^2 = \\frac{1}{N-1} \\sum_{i}^{N} (x_i - \\bar{x})^2 $$"
   ]
  },
  {
   "cell_type": "markdown",
   "metadata": {},
   "source": [
    "## Distribuciones\n",
    "\n",
    "La media, la varianza y la desviación estándar son estadísticos concisos, pero también peligrosos, ya que nublan la información que nos proporcionan los datos.\n",
    "\n",
    "Un apoyo para entenderlos mejor es ver la distribución de los datos.\n",
    "\n",
    "La representación más común de una distribución es un histograma, que describe frecuencia con la que aparece cada valor."
   ]
  },
  {
   "cell_type": "code",
   "execution_count": 8,
   "metadata": {
    "collapsed": false
   },
   "outputs": [
    {
     "data": {
      "text/plain": [
       "<matplotlib.text.Text at 0x11284deb8>"
      ]
     },
     "execution_count": 8,
     "metadata": {},
     "output_type": "execute_result"
    },
    {
     "data": {
      "image/png": "[encoded data removed]",
      "text/plain": [
       "<matplotlib.figure.Figure at 0x112836550>"
      ]
     },
     "metadata": {},
     "output_type": "display_data"
    }
   ],
   "source": [
    "%matplotlib inline\n",
    "import matplotlib.pyplot as plt\n",
    "\n",
    "edades = data[data.Age.notnull()]['Age']\n",
    "edades.hist()\n",
    "plt.xlabel('Edad', fontsize=18)\n",
    "plt.ylabel('Frecuencia', fontsize=16)"
   ]
  },
  {
   "cell_type": "code",
   "execution_count": 58,
   "metadata": {
    "collapsed": false,
    "scrolled": true
   },
   "outputs": [
    {
     "data": {
      "text/plain": [
       "88"
      ]
     },
     "execution_count": 58,
     "metadata": {},
     "output_type": "execute_result"
    }
   ],
   "source": [
    "len(edades.unique())"
   ]
  },
  {
   "cell_type": "code",
   "execution_count": 59,
   "metadata": {
    "collapsed": false
   },
   "outputs": [
    {
     "data": {
      "text/plain": [
       "<matplotlib.text.Text at 0xe47fe01da0>"
      ]
     },
     "execution_count": 59,
     "metadata": {},
     "output_type": "execute_result"
    },
    {
     "data": {
      "image/png": "[encoded data removed]",
      "text/plain": [
       "<matplotlib.figure.Figure at 0xe47fc542b0>"
      ]
     },
     "metadata": {},
     "output_type": "display_data"
    }
   ],
   "source": [
    "edades = data[data.Age.notnull()]['Age']\n",
    "edades.hist(bins=88)\n",
    "plt.xlabel('Edad', fontsize=18)\n",
    "plt.ylabel('Frecuencia', fontsize=16)"
   ]
  },
  {
   "cell_type": "markdown",
   "metadata": {},
   "source": [
    "Los histogramas son útiles porque podemos revisar las siguientes características rápidamente:\n",
    "\n",
    "- Moda: El valor más común o que más se repite en una distribución se llama moda.\n",
    "\n",
    "- Forma: Alrededor de la moda podemos ver que la distribución es asimétrica.\n",
    "\n",
    "- Los valores atípicos. (outliers)"
   ]
  },
  {
   "cell_type": "markdown",
   "metadata": {},
   "source": [
    "### Función de probabilidad\n",
    "\n",
    "Si queremos transformar las frecuencias a una función de probabilidad debemos dividir la serie entre el número de elementos"
   ]
  },
  {
   "cell_type": "code",
   "execution_count": 60,
   "metadata": {
    "collapsed": false
   },
   "outputs": [
    {
     "data": {
      "text/plain": [
       "<matplotlib.text.Text at 0xe47ffaa390>"
      ]
     },
     "execution_count": 60,
     "metadata": {},
     "output_type": "execute_result"
    },
    {
     "data": {
      "image/png": "[encoded data removed]",
      "text/plain": [
       "<matplotlib.figure.Figure at 0xe47ffa8198>"
      ]
     },
     "metadata": {},
     "output_type": "display_data"
    }
   ],
   "source": [
    "edades.hist(bins=88, normed=True)\n",
    "plt.xlabel('Edad', fontsize=18)\n",
    "plt.ylabel('Probabilidad', fontsize=16)"
   ]
  },
  {
   "cell_type": "markdown",
   "metadata": {},
   "source": [
    "$$ P(X = x) = f(x) $$"
   ]
  },
  {
   "cell_type": "markdown",
   "metadata": {},
   "source": [
    "La función de probabilidad funciona bien si el número de valores es pequeño.\n",
    "\n",
    "Pero a medida que el número de valores aumenta, la probabilidad asociada a cada valor se hace más pequeño.\n",
    "\n",
    "Una alternativa es usar la función de distribución acumulada."
   ]
  },
  {
   "cell_type": "code",
   "execution_count": 9,
   "metadata": {
    "collapsed": false
   },
   "outputs": [
    {
     "data": {
      "text/plain": [
       "count    714.000000\n",
       "mean      29.699118\n",
       "std       14.526497\n",
       "min        0.420000\n",
       "25%       20.125000\n",
       "50%       28.000000\n",
       "75%       38.000000\n",
       "max       80.000000\n",
       "Name: Age, dtype: float64"
      ]
     },
     "execution_count": 9,
     "metadata": {},
     "output_type": "execute_result"
    }
   ],
   "source": [
    "edades.describe()"
   ]
  },
  {
   "cell_type": "markdown",
   "metadata": {},
   "source": [
    "### Función de distribución acumulada"
   ]
  },
  {
   "cell_type": "code",
   "execution_count": 10,
   "metadata": {
    "collapsed": false
   },
   "outputs": [
    {
     "data": {
      "text/plain": [
       "<matplotlib.axes._subplots.AxesSubplot at 0x111c05278>"
      ]
     },
     "execution_count": 10,
     "metadata": {},
     "output_type": "execute_result"
    },
    {
     "data": {
      "image/png": "[encoded data removed]",
      "text/plain": [
       "<matplotlib.figure.Figure at 0x1126d4ef0>"
      ]
     },
     "metadata": {},
     "output_type": "display_data"
    }
   ],
   "source": [
    "edades.hist(cumulative=True, bins=88, normed=True)"
   ]
  },
  {
   "cell_type": "markdown",
   "metadata": {},
   "source": [
    "$$ P(X \\leq x) = f(x) $$"
   ]
  },
  {
   "cell_type": "markdown",
   "metadata": {
    "collapsed": true
   },
   "source": [
    "### Distribuciones continuas\n",
    "\n",
    "Cuando tenemos variables aleatorias continuas\n",
    "\n",
    "La distribución normal (Gaussiana), es una de las distribuciones de probabilidad que con más frecuencia aparece aproximada en fenómenos reales."
   ]
  },
  {
   "cell_type": "markdown",
   "metadata": {},
   "source": [
    "$$ P(x, \\sigma, \\mu) = \\frac{1}{\\sigma\\sqrt{2 \\pi}}e^{-(x -\\mu)^2/2\\sigma^2}$$"
   ]
  },
  {
   "cell_type": "code",
   "execution_count": 12,
   "metadata": {
    "collapsed": false
   },
   "outputs": [
    {
     "data": {
      "text/plain": [
       "(array([ 0.00246388,  0.00123194,  0.00369581,  0.00123194,  0.00615969,\n",
       "         0.00739163,  0.00492775,  0.019711  ,  0.01478325,  0.02463875,\n",
       "         0.04065394,  0.04804557,  0.07514819,  0.09609113,  0.11087438,\n",
       "         0.17739901,  0.17986289,  0.22174876,  0.25870689,  0.29936083,\n",
       "         0.31414408,  0.39422002,  0.3966839 ,  0.40530746,  0.39422002,\n",
       "         0.42501846,  0.37450902,  0.35110221,  0.28704145,  0.25501108,\n",
       "         0.21805295,  0.17123932,  0.1539922 ,  0.09485919,  0.10841051,\n",
       "         0.06159688,  0.05050944,  0.04188588,  0.02094294,  0.01355131,\n",
       "         0.0098555 ,  0.00739163,  0.00492775,  0.00246388,  0.00246388,\n",
       "         0.00246388,  0.00123194,  0.        ,  0.        ,  0.00246388]),\n",
       " array([ -3.89832567e+00,  -3.73597978e+00,  -3.57363389e+00,\n",
       "         -3.41128800e+00,  -3.24894211e+00,  -3.08659622e+00,\n",
       "         -2.92425034e+00,  -2.76190445e+00,  -2.59955856e+00,\n",
       "         -2.43721267e+00,  -2.27486678e+00,  -2.11252089e+00,\n",
       "         -1.95017500e+00,  -1.78782911e+00,  -1.62548322e+00,\n",
       "         -1.46313733e+00,  -1.30079144e+00,  -1.13844555e+00,\n",
       "         -9.76099665e-01,  -8.13753776e-01,  -6.51407886e-01,\n",
       "         -4.89061997e-01,  -3.26716108e-01,  -1.64370219e-01,\n",
       "         -2.02432964e-03,   1.60321560e-01,   3.22667449e-01,\n",
       "          4.85013338e-01,   6.47359227e-01,   8.09705116e-01,\n",
       "          9.72051006e-01,   1.13439689e+00,   1.29674278e+00,\n",
       "          1.45908867e+00,   1.62143456e+00,   1.78378045e+00,\n",
       "          1.94612634e+00,   2.10847223e+00,   2.27081812e+00,\n",
       "          2.43316401e+00,   2.59550990e+00,   2.75785579e+00,\n",
       "          2.92020168e+00,   3.08254757e+00,   3.24489345e+00,\n",
       "          3.40723934e+00,   3.56958523e+00,   3.73193112e+00,\n",
       "          3.89427701e+00,   4.05662290e+00,   4.21896879e+00]),\n",
       " <a list of 50 Patch objects>)"
      ]
     },
     "execution_count": 12,
     "metadata": {},
     "output_type": "execute_result"
    },
    {
     "data": {
      "image/png": "[encoded data removed]",
      "text/plain": [
       "<matplotlib.figure.Figure at 0x116206da0>"
      ]
     },
     "metadata": {},
     "output_type": "display_data"
    }
   ],
   "source": [
    "import numpy as np\n",
    "x = np.random.randn(5000)\n",
    "\n",
    "# Make a normed histogram. It'll be multiplied by 100 later.\n",
    "plt.hist(x, bins=50, normed=True)"
   ]
  },
  {
   "cell_type": "markdown",
   "metadata": {},
   "source": [
    "<img src=\"https://upload.wikimedia.org/wikipedia/commons/thumb/8/8c/Standard_deviation_diagram.svg/2000px-Standard_deviation_diagram.svg.png\">"
   ]
  },
  {
   "cell_type": "markdown",
   "metadata": {},
   "source": [
    "### ¿Por qué usar distribuciones continuas?\n",
    "\n",
    "Como todos los modelos, las distribuciones continuas son abstracciones, lo que significa que pueden simplificar y deshacerse de los detalles que se consideran irrelevantes (Errores de medición, outliers).\n",
    "\n",
    "Además son una forma de comprimir los datos. Ya que si logramos ajustar un modelo a un conjunto de datos, un pequeño conjunto de parámetros puede resumir una gran cantidad de datos."
   ]
  },
  {
   "cell_type": "markdown",
   "metadata": {},
   "source": [
    "### ¿Por qué es tan importante la distribución Normal?\n",
    "\n",
    "El teorema de límite central establece que la media de la muestra $\\bar{X}$ sigue una distribución normal (para $n$ grandes)\n",
    "con media $\\mu$ y desviación estándar $\\frac{\\sigma}{\\sqrt(n)}$\n",
    "\n",
    "El teorema del límite central explica, porque aparece con tanta frecuencia la distribución normal en el mundo natural.\n",
    "\n",
    "La mayoría de las características de los animales y otras formas de vida se ven afectadas por un gran número de variables genéticas y ambientales cuyo efecto es aditivo.\n",
    "\n",
    "Las características que medimos son la suma de un gran número de pequeños efectos, por lo que su distribución tiende a ser normal."
   ]
  },
  {
   "cell_type": "code",
   "execution_count": 20,
   "metadata": {
    "collapsed": false
   },
   "outputs": [
    {
     "ename": "AttributeError",
     "evalue": "'list' object has no attribute 'hist'",
     "output_type": "error",
     "traceback": [
      "\u001b[0;31m---------------------------------------------------------------------------\u001b[0m",
      "\u001b[0;31mAttributeError\u001b[0m                            Traceback (most recent call last)",
      "\u001b[0;32m<ipython-input-20-e99a8238a33f>\u001b[0m in \u001b[0;36m<module>\u001b[0;34m()\u001b[0m\n\u001b[1;32m      4\u001b[0m     \u001b[0mmedia_muestra\u001b[0m\u001b[0;34m[\u001b[0m\u001b[0mx\u001b[0m\u001b[0;34m]\u001b[0m \u001b[0;34m=\u001b[0m \u001b[0mnp\u001b[0m\u001b[0;34m.\u001b[0m\u001b[0mmean\u001b[0m\u001b[0;34m(\u001b[0m\u001b[0medades\u001b[0m\u001b[0;34m.\u001b[0m\u001b[0msample\u001b[0m\u001b[0;34m(\u001b[0m\u001b[0mn\u001b[0m\u001b[0;34m=\u001b[0m\u001b[0;36m10\u001b[0m\u001b[0;34m)\u001b[0m\u001b[0;34m)\u001b[0m\u001b[0;34m\u001b[0m\u001b[0m\n\u001b[1;32m      5\u001b[0m \u001b[0;34m\u001b[0m\u001b[0m\n\u001b[0;32m----> 6\u001b[0;31m \u001b[0mmedia_muestra\u001b[0m\u001b[0;34m.\u001b[0m\u001b[0mhist\u001b[0m\u001b[0;34m(\u001b[0m\u001b[0;34m)\u001b[0m\u001b[0;34m\u001b[0m\u001b[0m\n\u001b[0m",
      "\u001b[0;31mAttributeError\u001b[0m: 'list' object has no attribute 'hist'"
     ]
    }
   ],
   "source": [
    "media_muestra = []\n",
    "\n",
    "for x in range(50, 50):\n",
    "    media_muestra[x] = np.mean(edades.sample(n=10))\n",
    "    \n",
    "media_muestra.hist()"
   ]
  },
  {
   "cell_type": "markdown",
   "metadata": {},
   "source": [
    "### Probabilidad\n",
    "\n",
    "Anteriormente mencionamos que la probabilidad es la frecuencia expresada como una fracción tamaño de muestra.\n",
    "\n",
    "Esa es una definición de probabilidad, pero no es la única y de hecho, el significado de probabilidad es un tema controversial.\n",
    "\n",
    "Existe un consenso general de que la probabilidad es un valor real entre 0 y 1. Este valor pretende dar una medida cuantitativa que corresponde a la noción de que algunas cosas son más probables que otras.\n",
    "\n",
    "$$ P(E) \\epsilon [0,1] $$"
   ]
  },
  {
   "cell_type": "markdown",
   "metadata": {},
   "source": [
    "### Reglas de probabilidad (Recordando a Kolmogorov)\n",
    "\n",
    "- La probabilidad de que ocurra un evento es un valor entre 0 y 1. Para todo evento existe una probabilidad\n",
    "$$ 0 \\leq P(E) \\leq 1 $$\n",
    "- La probabilidad de que nada ocurra es 0\n",
    "$$ P(\\emptyset) = 0 $$\n",
    "- La probabilidad de que algo ocurra es 1\n",
    "$$ P(\\Omega) = 1 $$\n",
    "- La probabilidad de algo es 1 menos la probabilidad de lo contrario"
   ]
  },
  {
   "cell_type": "markdown",
   "metadata": {},
   "source": [
    "<img src=\"conditional_risk.png\">"
   ]
  },
  {
   "cell_type": "markdown",
   "metadata": {},
   "source": [
    "### Probabilidad condicional\n",
    "\n",
    "$$ P(A | B) = \\frac{P(A \\cap B)}{P(B)} $$\n",
    "\n",
    "Si A y B son eventos independientes entonces:\n",
    "\n",
    "$$ P(A | B) = \\frac{P(A) P(B)}{P(B)}  = P(A) $$"
   ]
  },
  {
   "cell_type": "markdown",
   "metadata": {},
   "source": [
    "##### Monty Hall\n",
    "\n",
    "https://www.youtube.com/watch?v=mhlc7peGlGg"
   ]
  },
  {
   "cell_type": "markdown",
   "metadata": {},
   "source": [
    "### Regla de Bayes\n",
    "\n",
    "El teorema de Bayes es a menudo interpretado como una declaración acerca de cómo la evidencia, E, afecta la probabilidad de una hipótesis, H:\n",
    "\n",
    "$$P(H | E) = P(H) \\frac{P(E|H)}{P(E)}$$\n",
    "\n",
    "En palabras, esta ecuación dice que la probabilidad de H después de haber visto E es el producto de $P(H)$, que es la probabilidad de que H antes de ver la evidencia E, y la relación de $P(E|H)$, la probabilidad de ver la evidencia suponiendo que H es verdadera, y $P(E)$, la probabilidad de ver la evidencia bajo cualquier circunstancia.\n",
    "\n",
    "Ejemplo: Filtro de Spam\n",
    "\n",
    "$$ P(S|W) = \\frac{P(W|S) \\cdot P(S)}{P(W|S) \\cdot P(S) + P(W|H) \\cdot P(H)} $$\n",
    "\n",
    "donde:\n",
    "\n",
    "- $P(S|W)$ Es la probabilidad de que nuestro mensaje sea SPAM, sabiendo que encontramos la palabra \"Dinero\"\n",
    "- $P(S)$ Es la probabilidad de que cualquier mensaje sea SPAM\n",
    "- $P(W|S)$ La probabilidad de que nuestra palabra aparezca en mensajes de SPAM\n",
    "- $P(H)$ La probabilidad de que nuestro mensaje sea HAM\n",
    "- $P(W|H)$ La probabilidad de que la nuestra palabra aparezca en HAM\n"
   ]
  }
 ],
 "metadata": {
  "kernelspec": {
   "display_name": "Python 3",
   "language": "python",
   "name": "python3"
  },
  "language_info": {
   "codemirror_mode": {
    "name": "ipython",
    "version": 3
   },
   "file_extension": ".py",
   "mimetype": "text/x-python",
   "name": "python",
   "nbconvert_exporter": "python",
   "pygments_lexer": "ipython3",
   "version": "3.5.1"
  }
 },
 "nbformat": 4,
 "nbformat_minor": 0
}
