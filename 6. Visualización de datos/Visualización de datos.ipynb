{
 "cells": [
  {
   "cell_type": "markdown",
   "metadata": {},
   "source": [
    "##Visualización de Datos\n",
    "http://www.slideshare.net/idigdata/data-visualization-best-practices-2013"
   ]
  },
  {
   "cell_type": "code",
   "execution_count": 74,
   "metadata": {
    "collapsed": false
   },
   "outputs": [
    {
     "data": {
      "text/html": [
       "<img src=\"http://istc-bigdata.org/wp-content/uploads/2014/09/ISTC-Blog-Automating-Visual-Design-with-Perceptual-Kernels-Demiralp-Heer-1.png\"/>"
      ],
      "text/plain": [
       "<IPython.core.display.Image object>"
      ]
     },
     "execution_count": 74,
     "metadata": {},
     "output_type": "execute_result"
    }
   ],
   "source": [
    "Image(url=\"http://istc-bigdata.org/wp-content/uploads/2014/09/ISTC-Blog-Automating-Visual-Design-with-Perceptual-Kernels-Demiralp-Heer-1.png\")"
   ]
  },
  {
   "cell_type": "markdown",
   "metadata": {},
   "source": [
    "###Herramientas para la visualización de datos en Python (De Python Awesome List: https://github.com/vinta/awesome-python/blob/master/README.md#data-visualization)\n",
    "* [matplotlib](http://matplotlib.org/) - A Python 2D plotting library.\n",
    "* [bokeh](https://github.com/bokeh/bokeh) - Interactive Web Plotting for Python.\n",
    "* [ggplot](https://github.com/yhat/ggplot) - Same API as ggplot2 for R.\n",
    "* [plotly](https://plot.ly/python/) - Collaborative web plotting for Python and matplotlib.\n",
    "* [pygal](http://www.pygal.org/en/latest/) - A Python SVG Charts Creator.\n",
    "* [orange](http://orange.biolab.si/) - Data mining, data visualization, analysis and machine learning through visual programming or Python scripting.\n",
    "* [pygraphviz](https://pypi.python.org/pypi/pygraphviz) - Python interface to [Graphviz](http://www.graphviz.org/).\n",
    "* [PyQtGraph](http://www.pyqtgraph.org/) - Interactive and realtime 2D/3D/Image plotting and science/engineering widgets.\n",
    "* [SnakeViz](http://jiffyclub.github.io/snakeviz/) - A browser based graphical viewer for the output of Python's cProfile module.\n",
    "* [vincent](https://github.com/wrobstory/vincent) - A Python to Vega translator.\n",
    "* [VisPy](http://vispy.org/) - High-performance scientific visualization based on OpenGL."
   ]
  },
  {
   "cell_type": "markdown",
   "metadata": {},
   "source": [
    "### The grammar of graphics\n",
    "http://ggplot2.org/resources/2007-past-present-future.pdf"
   ]
  },
  {
   "cell_type": "code",
   "execution_count": 8,
   "metadata": {
    "collapsed": true
   },
   "outputs": [],
   "source": [
    "import pandas as pd\n",
    "import numpy as np\n",
    "import matplotlib.pyplot as plt\n",
    "import matplotlib.mlab as mlab\n",
    "import math\n",
    "from ggplot import *\n",
    "from IPython.display import Image\n",
    "%matplotlib inline"
   ]
  },
  {
   "cell_type": "code",
   "execution_count": 29,
   "metadata": {
    "collapsed": true
   },
   "outputs": [],
   "source": [
    "#Cargamos los datos\n",
    "df = pd.read_csv(\"train.csv\")"
   ]
  },
  {
   "cell_type": "code",
   "execution_count": 6,
   "metadata": {
    "collapsed": false
   },
   "outputs": [
    {
     "name": "stdout",
     "output_type": "stream",
     "text": [
      "skewness: 4.78731651967\n",
      "kurtosis: 33.3981408809\n"
     ]
    },
    {
     "data": {
      "image/png": "[encoded data removed]",
      "text/plain": [
       "<matplotlib.figure.Figure at 0x11547c908>"
      ]
     },
     "metadata": {},
     "output_type": "display_data"
    }
   ],
   "source": [
    "print(\"skewness:\", df[\"Fare\"].skew())\n",
    "print(\"kurtosis:\", df[\"Fare\"].kurtosis()) \n",
    "fig = plt.figure()\n",
    "ax = fig.add_subplot(111)\n",
    "x = np.linspace(df['Fare'].min(),df['Fare'].max(),1)\n",
    "ax.hist(df['Fare'], bins = 10, range = (df['Fare'].min(),df['Fare'].max()))\n",
    "plt.title('Fare')\n",
    "plt.xlabel('Fare')\n",
    "plt.ylabel('Count of Passengers')\n",
    "plt.show()"
   ]
  },
  {
   "cell_type": "code",
   "execution_count": 33,
   "metadata": {
    "collapsed": false
   },
   "outputs": [
    {
     "data": {
      "image/png": "[encoded data removed]",
      "text/plain": [
       "<matplotlib.figure.Figure at 0x11cc6fcf8>"
      ]
     },
     "metadata": {},
     "output_type": "display_data"
    },
    {
     "data": {
      "text/plain": [
       "<ggplot: (-9223372036556165274)>"
      ]
     },
     "execution_count": 33,
     "metadata": {},
     "output_type": "execute_result"
    }
   ],
   "source": [
    "p = ggplot(aes(x='Fare'), data=df)\n",
    "p + geom_histogram(binwidth=int((df[\"Fare\"].max()-df[\"Fare\"].min())/10))"
   ]
  },
  {
   "cell_type": "code",
   "execution_count": 2,
   "metadata": {
    "collapsed": false,
    "scrolled": true
   },
   "outputs": [
    {
     "name": "stderr",
     "output_type": "stream",
     "text": [
      "C:\\Anaconda3\\envs\\databootcamp\\lib\\site-packages\\bokeh\\charts\\chart.py:335: UserWarning: Chart property 'notebook' was deprecated in 0.11             and will be removed in the future.\n",
      "  and will be removed in the future.\")\n"
     ]
    },
    {
     "data": {
      "text/html": [
       "\n",
       "\n",
       "    <script type=\"text/javascript\">\n",
       "      \n",
       "      (function(global) {\n",
       "        function now() {\n",
       "          return new Date();\n",
       "        }\n",
       "      \n",
       "        if (typeof (window._bokeh_onload_callbacks) === \"undefined\") {\n",
       "          window._bokeh_onload_callbacks = [];\n",
       "        }\n",
       "      \n",
       "        function run_callbacks() {\n",
       "          window._bokeh_onload_callbacks.forEach(function(callback) { callback() });\n",
       "          delete window._bokeh_onload_callbacks\n",
       "          console.info(\"Bokeh: all callbacks have finished\");\n",
       "        }\n",
       "      \n",
       "        function load_libs(js_urls, callback) {\n",
       "          window._bokeh_onload_callbacks.push(callback);\n",
       "          if (window._bokeh_is_loading > 0) {\n",
       "            console.log(\"Bokeh: BokehJS is being loaded, scheduling callback at\", now());\n",
       "            return null;\n",
       "          }\n",
       "          if (js_urls == null || js_urls.length === 0) {\n",
       "            run_callbacks();\n",
       "            return null;\n",
       "          }\n",
       "          console.log(\"Bokeh: BokehJS not loaded, scheduling load and callback at\", now());\n",
       "          window._bokeh_is_loading = js_urls.length;\n",
       "          for (var i = 0; i < js_urls.length; i++) {\n",
       "            var url = js_urls[i];\n",
       "            var s = document.createElement('script');\n",
       "            s.src = url;\n",
       "            s.async = false;\n",
       "            s.onreadystatechange = s.onload = function() {\n",
       "              window._bokeh_is_loading--;\n",
       "              if (window._bokeh_is_loading === 0) {\n",
       "                console.log(\"Bokeh: all BokehJS libraries loaded\");\n",
       "                run_callbacks()\n",
       "              }\n",
       "            };\n",
       "            s.onerror = function() {\n",
       "              console.warn(\"failed to load library \" + url);\n",
       "            };\n",
       "            console.log(\"Bokeh: injecting script tag for BokehJS library: \", url);\n",
       "            document.getElementsByTagName(\"head\")[0].appendChild(s);\n",
       "          }\n",
       "        };var js_urls = ['https://cdn.pydata.org/bokeh/release/bokeh-0.11.0.min.js', 'https://cdn.pydata.org/bokeh/release/bokeh-widgets-0.11.0.min.js', 'https://cdn.pydata.org/bokeh/release/bokeh-compiler-0.11.0.min.js'];\n",
       "      \n",
       "        var inline_js = [\n",
       "          function(Bokeh) {\n",
       "            Bokeh.set_log_level(\"info\");\n",
       "          },\n",
       "          function(Bokeh) {\n",
       "            console.log(\"Bokeh: injecting CSS: https://cdn.pydata.org/bokeh/release/bokeh-0.11.0.min.css\");\n",
       "            Bokeh.embed.inject_css(\"https://cdn.pydata.org/bokeh/release/bokeh-0.11.0.min.css\");\n",
       "            console.log(\"Bokeh: injecting CSS: https://cdn.pydata.org/bokeh/release/bokeh-widgets-0.11.0.min.css\");\n",
       "            Bokeh.embed.inject_css(\"https://cdn.pydata.org/bokeh/release/bokeh-widgets-0.11.0.min.css\");\n",
       "          }\n",
       "        ];\n",
       "      \n",
       "        function run_inline_js() {\n",
       "          for (var i = 0; i < inline_js.length; i++) {\n",
       "            inline_js[i](window.Bokeh);\n",
       "          }\n",
       "        }\n",
       "      \n",
       "        if (window._bokeh_is_loading === 0) {\n",
       "          console.log(\"Bokeh: BokehJS loaded, going straight to plotting\");\n",
       "          run_inline_js();\n",
       "        } else {\n",
       "          load_libs(js_urls, function() {\n",
       "            console.log(\"Bokeh: BokehJS plotting callback run at\", now());\n",
       "            run_inline_js();\n",
       "          });\n",
       "        }\n",
       "      }(this));\n",
       "    </script>\n",
       "    <div>\n",
       "        <a href=\"http://bokeh.pydata.org\" target=\"_blank\" class=\"bk-logo bk-logo-small bk-logo-notebook\"></a>\n",
       "        <span>BokehJS successfully loaded.</span>\n",
       "    </div>"
      ]
     },
     "metadata": {},
     "output_type": "display_data"
    },
    {
     "data": {
      "text/html": [
       "\n",
       "\n",
       "    <div class=\"plotdiv\" id=\"056fccf4-705b-4f9b-849f-9def756498a6\"></div>\n",
       "<script type=\"text/javascript\">\n",
       "  \n",
       "  (function(global) {\n",
       "    function now() {\n",
       "      return new Date();\n",
       "    }\n",
       "  \n",
       "    if (typeof (window._bokeh_onload_callbacks) === \"undefined\") {\n",
       "      window._bokeh_onload_callbacks = [];\n",
       "    }\n",
       "  \n",
       "    function run_callbacks() {\n",
       "      window._bokeh_onload_callbacks.forEach(function(callback) { callback() });\n",
       "      delete window._bokeh_onload_callbacks\n",
       "      console.info(\"Bokeh: all callbacks have finished\");\n",
       "    }\n",
       "  \n",
       "    function load_libs(js_urls, callback) {\n",
       "      window._bokeh_onload_callbacks.push(callback);\n",
       "      if (window._bokeh_is_loading > 0) {\n",
       "        console.log(\"Bokeh: BokehJS is being loaded, scheduling callback at\", now());\n",
       "        return null;\n",
       "      }\n",
       "      if (js_urls == null || js_urls.length === 0) {\n",
       "        run_callbacks();\n",
       "        return null;\n",
       "      }\n",
       "      console.log(\"Bokeh: BokehJS not loaded, scheduling load and callback at\", now());\n",
       "      window._bokeh_is_loading = js_urls.length;\n",
       "      for (var i = 0; i < js_urls.length; i++) {\n",
       "        var url = js_urls[i];\n",
       "        var s = document.createElement('script');\n",
       "        s.src = url;\n",
       "        s.async = false;\n",
       "        s.onreadystatechange = s.onload = function() {\n",
       "          window._bokeh_is_loading--;\n",
       "          if (window._bokeh_is_loading === 0) {\n",
       "            console.log(\"Bokeh: all BokehJS libraries loaded\");\n",
       "            run_callbacks()\n",
       "          }\n",
       "        };\n",
       "        s.onerror = function() {\n",
       "          console.warn(\"failed to load library \" + url);\n",
       "        };\n",
       "        console.log(\"Bokeh: injecting script tag for BokehJS library: \", url);\n",
       "        document.getElementsByTagName(\"head\")[0].appendChild(s);\n",
       "      }\n",
       "    };var element = document.getElementById(\"056fccf4-705b-4f9b-849f-9def756498a6\");\n",
       "    if (element == null) {\n",
       "      console.log(\"Bokeh: ERROR: autoload.js configured with elementid '056fccf4-705b-4f9b-849f-9def756498a6' but no matching script tag was found. \")\n",
       "      return false;\n",
       "    }var js_urls = [];\n",
       "  \n",
       "    var inline_js = [\n",
       "      function(Bokeh) {\n",
       "        Bokeh.$(function() {\n",
       "            var docs_json = {\"4e3ee661-5640-47b6-94ab-a2b39b880d1c\": {\"roots\": {\"root_ids\": [\"512299af-484c-4fc2-ba10-ec94436b1958\", \"ffde25bc-32d1-4f1c-acbe-12fd75018f5b\"], \"references\": [{\"type\": \"ResetTool\", \"attributes\": {\"plot\": {\"type\": \"Plot\", \"subtype\": \"Chart\", \"id\": \"512299af-484c-4fc2-ba10-ec94436b1958\"}}, \"id\": \"9e47a0dc-72a9-4483-ae0e-067ef9d520ee\"}, {\"type\": \"Grid\", \"attributes\": {\"ticker\": {\"type\": \"BasicTicker\", \"id\": \"47a5b175-03ef-420f-b421-85261805d90d\"}, \"dimension\": 1, \"plot\": {\"type\": \"Plot\", \"subtype\": \"Chart\", \"id\": \"ffde25bc-32d1-4f1c-acbe-12fd75018f5b\"}}, \"id\": \"971de6d7-c55d-4ffc-853f-027f848cf069\"}, {\"type\": \"FactorRange\", \"attributes\": {\"callback\": null, \"factors\": [\"3\", \"4\", \"5\", \"6\", \"8\"]}, \"id\": \"7b606eaa-c4e2-41f5-b6e5-9d34b71bbe69\"}, {\"type\": \"ColumnDataSource\", \"attributes\": {\"data\": {\"color\": [\"#f22c40\"], \"chart_index\": [{\"cyl\": 5}], \"cyl\": [5], \"height\": [82.1], \"fill_alpha\": [0.8], \"line_color\": [\"white\"], \"x\": [\"5\"], \"width\": [0.8], \"y\": [41.05], \"line_alpha\": [1.0]}, \"callback\": null, \"column_names\": [\"color\", \"x\", \"line_color\", \"fill_alpha\", \"height\", \"width\", \"y\", \"line_alpha\"]}, \"id\": \"8f8baa3c-8ae8-4e15-9b4c-700db08f8e4e\"}, {\"type\": \"GlyphRenderer\", \"attributes\": {\"hover_glyph\": null, \"data_source\": {\"type\": \"ColumnDataSource\", \"id\": \"8f8baa3c-8ae8-4e15-9b4c-700db08f8e4e\"}, \"nonselection_glyph\": null, \"glyph\": {\"type\": \"Rect\", \"id\": \"4acd37a0-db47-4eec-a70e-0181a73a6c71\"}, \"selection_glyph\": null}, \"id\": \"ce08aef6-fab1-4bec-bc51-3a700b2caad8\"}, {\"type\": \"LinearAxis\", \"attributes\": {\"ticker\": {\"type\": \"BasicTicker\", \"id\": \"47a5b175-03ef-420f-b421-85261805d90d\"}, \"formatter\": {\"type\": \"BasicTickFormatter\", \"id\": \"39c535bd-c72f-4540-9ce5-031da123d25e\"}, \"axis_label\": \"Sum( Mpg )\", \"plot\": {\"type\": \"Plot\", \"subtype\": \"Chart\", \"id\": \"ffde25bc-32d1-4f1c-acbe-12fd75018f5b\"}}, \"id\": \"2b5ae46f-641c-46ba-8162-2af3b8a8cb65\"}, {\"type\": \"BasicTicker\", \"attributes\": {}, \"id\": \"719d2bcf-e369-4879-b3eb-6827d5b1f4f9\"}, {\"type\": \"ResetTool\", \"attributes\": {\"plot\": {\"type\": \"Plot\", \"subtype\": \"Chart\", \"id\": \"ffde25bc-32d1-4f1c-acbe-12fd75018f5b\"}}, \"id\": \"cd0ba446-e0a1-4286-a3e4-ee6eec34e8ba\"}, {\"type\": \"Rect\", \"attributes\": {\"fill_alpha\": {\"field\": \"fill_alpha\"}, \"x\": {\"field\": \"x\"}, \"line_color\": {\"field\": \"line_color\"}, \"fill_color\": {\"field\": \"color\"}, \"width\": {\"field\": \"width\", \"units\": \"data\"}, \"y\": {\"field\": \"y\"}, \"height\": {\"field\": \"height\", \"units\": \"data\"}}, \"id\": \"52b48113-b8ed-40f7-aca2-4ecaa553ec28\"}, {\"type\": \"CategoricalAxis\", \"attributes\": {\"ticker\": {\"type\": \"CategoricalTicker\", \"id\": \"0cd352ee-ac3a-441a-a841-274c7bcfd1bd\"}, \"formatter\": {\"type\": \"CategoricalTickFormatter\", \"id\": \"d78248be-a0fc-49fa-9ae7-e2072db33bb1\"}, \"axis_label\": \"Cyl\", \"plot\": {\"type\": \"Plot\", \"subtype\": \"Chart\", \"id\": \"ffde25bc-32d1-4f1c-acbe-12fd75018f5b\"}, \"major_label_orientation\": 0.7853981633974483}, \"id\": \"1a767190-b5ba-4f37-8149-54118237246e\"}, {\"type\": \"WheelZoomTool\", \"attributes\": {\"plot\": {\"type\": \"Plot\", \"subtype\": \"Chart\", \"id\": \"512299af-484c-4fc2-ba10-ec94436b1958\"}}, \"id\": \"26ac5e55-c0b2-44c8-82a3-7d1c18756d2d\"}, {\"type\": \"CategoricalTickFormatter\", \"attributes\": {}, \"id\": \"b245ebc4-34a4-4d63-8c15-5b249f207a74\"}, {\"type\": \"ToolEvents\", \"attributes\": {}, \"id\": \"424adcb0-7150-42cf-96f8-c37a608c6628\"}, {\"type\": \"HelpTool\", \"attributes\": {\"plot\": {\"type\": \"Plot\", \"subtype\": \"Chart\", \"id\": \"ffde25bc-32d1-4f1c-acbe-12fd75018f5b\"}}, \"id\": \"924e3aeb-3d5b-4ee9-9e31-e411548cd754\"}, {\"type\": \"PreviewSaveTool\", \"attributes\": {\"plot\": {\"type\": \"Plot\", \"subtype\": \"Chart\", \"id\": \"512299af-484c-4fc2-ba10-ec94436b1958\"}}, \"id\": \"864c0037-80cf-4398-8ce9-6e41708381b5\"}, {\"type\": \"BoxAnnotation\", \"attributes\": {\"level\": \"overlay\", \"bottom_units\": \"screen\", \"top_units\": \"screen\", \"line_color\": {\"value\": \"black\"}, \"fill_alpha\": {\"value\": 0.5}, \"left_units\": \"screen\", \"line_width\": {\"value\": 2}, \"line_dash\": [4, 4], \"right_units\": \"screen\", \"fill_color\": {\"value\": \"lightgrey\"}, \"plot\": null, \"line_alpha\": {\"value\": 1.0}, \"render_mode\": \"css\"}, \"id\": \"318d1899-c72d-4122-8671-145aa691dc5b\"}, {\"type\": \"CategoricalTicker\", \"attributes\": {}, \"id\": \"bdf199b5-ce54-447e-b559-681c466b085f\"}, {\"type\": \"ColumnDataSource\", \"attributes\": {\"data\": {\"color\": [\"#f22c40\"], \"chart_index\": [{\"cyl\": 3}], \"cyl\": [3], \"height\": [82.2], \"fill_alpha\": [0.8], \"line_color\": [\"white\"], \"x\": [\"3\"], \"width\": [0.8], \"y\": [41.1], \"line_alpha\": [1.0]}, \"callback\": null, \"column_names\": [\"color\", \"x\", \"line_color\", \"fill_alpha\", \"height\", \"width\", \"y\", \"line_alpha\"]}, \"id\": \"6cc42c4e-2b24-4894-8444-4b151b6b6bdf\"}, {\"type\": \"Range1d\", \"attributes\": {\"callback\": null, \"end\": 6118.875000000002}, \"id\": \"b1d78726-c483-4753-92f7-292bae86b1aa\"}, {\"type\": \"ToolEvents\", \"attributes\": {}, \"id\": \"19a4ab2a-9e6b-4aea-bf2e-9f42965e7269\"}, {\"type\": \"Rect\", \"attributes\": {\"fill_alpha\": {\"field\": \"fill_alpha\"}, \"x\": {\"field\": \"x\"}, \"line_color\": {\"field\": \"line_color\"}, \"fill_color\": {\"field\": \"color\"}, \"width\": {\"field\": \"width\", \"units\": \"data\"}, \"y\": {\"field\": \"y\"}, \"height\": {\"field\": \"height\", \"units\": \"data\"}}, \"id\": \"4acd37a0-db47-4eec-a70e-0181a73a6c71\"}, {\"type\": \"ColumnDataSource\", \"attributes\": {\"data\": {\"color\": [\"#f22c40\"], \"chart_index\": [{\"cyl\": 6}], \"cyl\": [6], \"height\": [1657.8], \"fill_alpha\": [0.8], \"line_color\": [\"white\"], \"x\": [\"6\"], \"width\": [0.8], \"y\": [828.9], \"line_alpha\": [1.0]}, \"callback\": null, \"column_names\": [\"color\", \"x\", \"line_color\", \"fill_alpha\", \"height\", \"width\", \"y\", \"line_alpha\"]}, \"id\": \"289d3a05-b1ba-46b1-9b24-c7c7aa4a23de\"}, {\"type\": \"Plot\", \"subtype\": \"Chart\", \"attributes\": {\"xscale\": \"auto\", \"x_range\": {\"type\": \"FactorRange\", \"id\": \"02547624-dde3-456e-9a2f-103f8d92bab9\"}, \"x_mapper_type\": \"auto\", \"left\": [{\"type\": \"LinearAxis\", \"id\": \"9d9e3d2a-c087-41b1-85af-f6e94606244b\"}], \"y_range\": {\"type\": \"Range1d\", \"id\": \"b1d78726-c483-4753-92f7-292bae86b1aa\"}, \"yscale\": \"auto\", \"title_text_font_size\": {\"value\": \"14pt\"}, \"below\": [{\"type\": \"CategoricalAxis\", \"id\": \"a91bc3f3-3f4d-4fe4-b7ff-135cc67fea82\"}], \"tool_events\": {\"type\": \"ToolEvents\", \"id\": \"19a4ab2a-9e6b-4aea-bf2e-9f42965e7269\"}, \"renderers\": [{\"type\": \"BoxAnnotation\", \"id\": \"318d1899-c72d-4122-8671-145aa691dc5b\"}, {\"type\": \"GlyphRenderer\", \"id\": \"107d3800-ed0b-427e-916e-e7bd47c37521\"}, {\"type\": \"GlyphRenderer\", \"id\": \"b5eb4482-9b02-4062-b1f8-c91fa6faf5a9\"}, {\"type\": \"GlyphRenderer\", \"id\": \"cf2a17ca-301a-4984-8ac4-90eb6205563b\"}, {\"type\": \"GlyphRenderer\", \"id\": \"a7be3349-e5b2-4b59-b44e-b034921f5f46\"}, {\"type\": \"GlyphRenderer\", \"id\": \"ce08aef6-fab1-4bec-bc51-3a700b2caad8\"}, {\"type\": \"CategoricalAxis\", \"id\": \"a91bc3f3-3f4d-4fe4-b7ff-135cc67fea82\"}, {\"type\": \"LinearAxis\", \"id\": \"9d9e3d2a-c087-41b1-85af-f6e94606244b\"}, {\"type\": \"Grid\", \"id\": \"684968d2-8ce3-4589-b0a3-36c4fea9256b\"}], \"tools\": [{\"type\": \"PanTool\", \"id\": \"57068c49-fe65-49f0-98ef-6c5e24739598\"}, {\"type\": \"WheelZoomTool\", \"id\": \"26ac5e55-c0b2-44c8-82a3-7d1c18756d2d\"}, {\"type\": \"BoxZoomTool\", \"id\": \"7fcfae42-0d13-470f-a47a-3fd07d395e15\"}, {\"type\": \"PreviewSaveTool\", \"id\": \"864c0037-80cf-4398-8ce9-6e41708381b5\"}, {\"type\": \"ResizeTool\", \"id\": \"23d99123-7c45-4b00-8716-d3d3ce351db0\"}, {\"type\": \"ResetTool\", \"id\": \"9e47a0dc-72a9-4483-ae0e-067ef9d520ee\"}, {\"type\": \"HelpTool\", \"id\": \"789eafb7-d654-45ed-81da-efe22ed9331d\"}], \"legend\": null, \"xgrid\": false, \"y_mapper_type\": \"auto\", \"title\": \"Total MPG by CYL\"}, \"id\": \"512299af-484c-4fc2-ba10-ec94436b1958\"}, {\"type\": \"GlyphRenderer\", \"attributes\": {\"hover_glyph\": null, \"data_source\": {\"type\": \"ColumnDataSource\", \"id\": \"289d3a05-b1ba-46b1-9b24-c7c7aa4a23de\"}, \"nonselection_glyph\": null, \"glyph\": {\"type\": \"Rect\", \"id\": \"52b48113-b8ed-40f7-aca2-4ecaa553ec28\"}, \"selection_glyph\": null}, \"id\": \"a12c3f11-e79d-42c8-899b-def4b1e28fac\"}, {\"type\": \"Rect\", \"attributes\": {\"fill_alpha\": {\"field\": \"fill_alpha\"}, \"x\": {\"field\": \"x\"}, \"line_color\": {\"field\": \"line_color\"}, \"fill_color\": {\"field\": \"color\"}, \"width\": {\"field\": \"width\", \"units\": \"data\"}, \"y\": {\"field\": \"y\"}, \"height\": {\"field\": \"height\", \"units\": \"data\"}}, \"id\": \"a3b8db3c-d5e5-463f-91c1-91a2a6efb7fb\"}, {\"type\": \"GlyphRenderer\", \"attributes\": {\"hover_glyph\": null, \"data_source\": {\"type\": \"ColumnDataSource\", \"id\": \"4249936c-0cff-4e72-b317-c2ef76b55b61\"}, \"nonselection_glyph\": null, \"glyph\": {\"type\": \"Rect\", \"id\": \"34f3b198-a8ed-4abe-bab1-58463687b2ea\"}, \"selection_glyph\": null}, \"id\": \"19609ba7-c530-4e7f-b9dc-203629647683\"}, {\"type\": \"Plot\", \"subtype\": \"Chart\", \"attributes\": {\"xscale\": \"auto\", \"x_range\": {\"type\": \"FactorRange\", \"id\": \"7b606eaa-c4e2-41f5-b6e5-9d34b71bbe69\"}, \"x_mapper_type\": \"auto\", \"left\": [{\"type\": \"LinearAxis\", \"id\": \"2b5ae46f-641c-46ba-8162-2af3b8a8cb65\"}], \"y_range\": {\"type\": \"Range1d\", \"id\": \"50b90255-306c-476b-89e6-f9cac7c0410d\"}, \"yscale\": \"auto\", \"title_text_font_size\": {\"value\": \"14pt\"}, \"below\": [{\"type\": \"CategoricalAxis\", \"id\": \"1a767190-b5ba-4f37-8149-54118237246e\"}], \"tool_events\": {\"type\": \"ToolEvents\", \"id\": \"424adcb0-7150-42cf-96f8-c37a608c6628\"}, \"renderers\": [{\"type\": \"BoxAnnotation\", \"id\": \"17f69de7-8358-4c01-91b9-692b3f411351\"}, {\"type\": \"GlyphRenderer\", \"id\": \"62d7b211-97e5-42a1-8b1c-fab160a62924\"}, {\"type\": \"GlyphRenderer\", \"id\": \"19609ba7-c530-4e7f-b9dc-203629647683\"}, {\"type\": \"GlyphRenderer\", \"id\": \"a12c3f11-e79d-42c8-899b-def4b1e28fac\"}, {\"type\": \"GlyphRenderer\", \"id\": \"59287f37-a8ae-4f90-bd61-1aa841e8f059\"}, {\"type\": \"GlyphRenderer\", \"id\": \"a9f08903-f4fe-4748-99dc-af76791f8abd\"}, {\"type\": \"CategoricalAxis\", \"id\": \"1a767190-b5ba-4f37-8149-54118237246e\"}, {\"type\": \"LinearAxis\", \"id\": \"2b5ae46f-641c-46ba-8162-2af3b8a8cb65\"}, {\"type\": \"Grid\", \"id\": \"971de6d7-c55d-4ffc-853f-027f848cf069\"}], \"tools\": [{\"type\": \"PanTool\", \"id\": \"2e1f4178-3f55-4633-87ff-9adf2fc9500e\"}, {\"type\": \"WheelZoomTool\", \"id\": \"3d35b916-90c8-40d0-b594-70c6c4b44746\"}, {\"type\": \"BoxZoomTool\", \"id\": \"73e751e1-be39-45b7-b583-15259f9f2ea8\"}, {\"type\": \"PreviewSaveTool\", \"id\": \"901d75ed-2ce2-4913-a050-17ba349c9af2\"}, {\"type\": \"ResizeTool\", \"id\": \"1c093690-b474-4359-8b3f-b94f0722f630\"}, {\"type\": \"ResetTool\", \"id\": \"cd0ba446-e0a1-4286-a3e4-ee6eec34e8ba\"}, {\"type\": \"HelpTool\", \"id\": \"924e3aeb-3d5b-4ee9-9e31-e411548cd754\"}], \"legend\": null, \"xgrid\": false, \"y_mapper_type\": \"auto\", \"title\": \"Total MPG by CYL\"}, \"id\": \"ffde25bc-32d1-4f1c-acbe-12fd75018f5b\"}, {\"type\": \"Rect\", \"attributes\": {\"fill_alpha\": {\"field\": \"fill_alpha\"}, \"x\": {\"field\": \"x\"}, \"line_color\": {\"field\": \"line_color\"}, \"fill_color\": {\"field\": \"color\"}, \"width\": {\"field\": \"width\", \"units\": \"data\"}, \"y\": {\"field\": \"y\"}, \"height\": {\"field\": \"height\", \"units\": \"data\"}}, \"id\": \"b4a4af38-fb59-4757-b4f8-d0af45e12879\"}, {\"type\": \"FactorRange\", \"attributes\": {\"callback\": null, \"factors\": [\"3\", \"4\", \"5\", \"6\", \"8\"]}, \"id\": \"02547624-dde3-456e-9a2f-103f8d92bab9\"}, {\"type\": \"Rect\", \"attributes\": {\"fill_alpha\": {\"field\": \"fill_alpha\"}, \"x\": {\"field\": \"x\"}, \"line_color\": {\"field\": \"line_color\"}, \"fill_color\": {\"field\": \"color\"}, \"width\": {\"field\": \"width\", \"units\": \"data\"}, \"y\": {\"field\": \"y\"}, \"height\": {\"field\": \"height\", \"units\": \"data\"}}, \"id\": \"34f3b198-a8ed-4abe-bab1-58463687b2ea\"}, {\"type\": \"GlyphRenderer\", \"attributes\": {\"hover_glyph\": null, \"data_source\": {\"type\": \"ColumnDataSource\", \"id\": \"6cc42c4e-2b24-4894-8444-4b151b6b6bdf\"}, \"nonselection_glyph\": null, \"glyph\": {\"type\": \"Rect\", \"id\": \"dff0827c-a788-4689-9d78-af86a18a652e\"}, \"selection_glyph\": null}, \"id\": \"59287f37-a8ae-4f90-bd61-1aa841e8f059\"}, {\"type\": \"Rect\", \"attributes\": {\"fill_alpha\": {\"field\": \"fill_alpha\"}, \"x\": {\"field\": \"x\"}, \"line_color\": {\"field\": \"line_color\"}, \"fill_color\": {\"field\": \"color\"}, \"width\": {\"field\": \"width\", \"units\": \"data\"}, \"y\": {\"field\": \"y\"}, \"height\": {\"field\": \"height\", \"units\": \"data\"}}, \"id\": \"3cbbc7ff-86e4-4cab-b72e-c862482be1cc\"}, {\"type\": \"ResizeTool\", \"attributes\": {\"plot\": {\"type\": \"Plot\", \"subtype\": \"Chart\", \"id\": \"ffde25bc-32d1-4f1c-acbe-12fd75018f5b\"}}, \"id\": \"1c093690-b474-4359-8b3f-b94f0722f630\"}, {\"type\": \"ColumnDataSource\", \"attributes\": {\"data\": {\"color\": [\"#f22c40\"], \"chart_index\": [{\"cyl\": 6}], \"cyl\": [6], \"height\": [1657.8], \"fill_alpha\": [0.8], \"line_color\": [\"white\"], \"x\": [\"6\"], \"width\": [0.8], \"y\": [828.9], \"line_alpha\": [1.0]}, \"callback\": null, \"column_names\": [\"color\", \"x\", \"line_color\", \"fill_alpha\", \"height\", \"width\", \"y\", \"line_alpha\"]}, \"id\": \"497e4307-fc1c-4408-b402-b08bd8ff59ac\"}, {\"type\": \"GlyphRenderer\", \"attributes\": {\"hover_glyph\": null, \"data_source\": {\"type\": \"ColumnDataSource\", \"id\": \"29cfb274-ea13-43dc-ba14-7541380f0880\"}, \"nonselection_glyph\": null, \"glyph\": {\"type\": \"Rect\", \"id\": \"c072b544-44af-46fa-a41a-1305dbb0b1ae\"}, \"selection_glyph\": null}, \"id\": \"a9f08903-f4fe-4748-99dc-af76791f8abd\"}, {\"type\": \"GlyphRenderer\", \"attributes\": {\"hover_glyph\": null, \"data_source\": {\"type\": \"ColumnDataSource\", \"id\": \"b2967236-c3d9-4a30-9c1d-02befc5bc7ec\"}, \"nonselection_glyph\": null, \"glyph\": {\"type\": \"Rect\", \"id\": \"a3b8db3c-d5e5-463f-91c1-91a2a6efb7fb\"}, \"selection_glyph\": null}, \"id\": \"a7be3349-e5b2-4b59-b44e-b034921f5f46\"}, {\"type\": \"Rect\", \"attributes\": {\"fill_alpha\": {\"field\": \"fill_alpha\"}, \"x\": {\"field\": \"x\"}, \"line_color\": {\"field\": \"line_color\"}, \"fill_color\": {\"field\": \"color\"}, \"width\": {\"field\": \"width\", \"units\": \"data\"}, \"y\": {\"field\": \"y\"}, \"height\": {\"field\": \"height\", \"units\": \"data\"}}, \"id\": \"c072b544-44af-46fa-a41a-1305dbb0b1ae\"}, {\"type\": \"Rect\", \"attributes\": {\"fill_alpha\": {\"field\": \"fill_alpha\"}, \"x\": {\"field\": \"x\"}, \"line_color\": {\"field\": \"line_color\"}, \"fill_color\": {\"field\": \"color\"}, \"width\": {\"field\": \"width\", \"units\": \"data\"}, \"y\": {\"field\": \"y\"}, \"height\": {\"field\": \"height\", \"units\": \"data\"}}, \"id\": \"3db9671b-2fe9-46f0-b721-cf691cf0b17d\"}, {\"type\": \"GlyphRenderer\", \"attributes\": {\"hover_glyph\": null, \"data_source\": {\"type\": \"ColumnDataSource\", \"id\": \"aa493d44-a25b-4b36-8151-e90d90a8856d\"}, \"nonselection_glyph\": null, \"glyph\": {\"type\": \"Rect\", \"id\": \"3cbbc7ff-86e4-4cab-b72e-c862482be1cc\"}, \"selection_glyph\": null}, \"id\": \"62d7b211-97e5-42a1-8b1c-fab160a62924\"}, {\"type\": \"Grid\", \"attributes\": {\"ticker\": {\"type\": \"BasicTicker\", \"id\": \"719d2bcf-e369-4879-b3eb-6827d5b1f4f9\"}, \"dimension\": 1, \"plot\": {\"type\": \"Plot\", \"subtype\": \"Chart\", \"id\": \"512299af-484c-4fc2-ba10-ec94436b1958\"}}, \"id\": \"684968d2-8ce3-4589-b0a3-36c4fea9256b\"}, {\"type\": \"HelpTool\", \"attributes\": {\"plot\": {\"type\": \"Plot\", \"subtype\": \"Chart\", \"id\": \"512299af-484c-4fc2-ba10-ec94436b1958\"}}, \"id\": \"789eafb7-d654-45ed-81da-efe22ed9331d\"}, {\"type\": \"BasicTickFormatter\", \"attributes\": {}, \"id\": \"39c535bd-c72f-4540-9ce5-031da123d25e\"}, {\"type\": \"WheelZoomTool\", \"attributes\": {\"plot\": {\"type\": \"Plot\", \"subtype\": \"Chart\", \"id\": \"ffde25bc-32d1-4f1c-acbe-12fd75018f5b\"}}, \"id\": \"3d35b916-90c8-40d0-b594-70c6c4b44746\"}, {\"type\": \"BoxAnnotation\", \"attributes\": {\"level\": \"overlay\", \"bottom_units\": \"screen\", \"top_units\": \"screen\", \"line_color\": {\"value\": \"black\"}, \"fill_alpha\": {\"value\": 0.5}, \"left_units\": \"screen\", \"line_width\": {\"value\": 2}, \"line_dash\": [4, 4], \"right_units\": \"screen\", \"fill_color\": {\"value\": \"lightgrey\"}, \"plot\": null, \"line_alpha\": {\"value\": 1.0}, \"render_mode\": \"css\"}, \"id\": \"17f69de7-8358-4c01-91b9-692b3f411351\"}, {\"type\": \"GlyphRenderer\", \"attributes\": {\"hover_glyph\": null, \"data_source\": {\"type\": \"ColumnDataSource\", \"id\": \"51b9b988-c417-466a-9c64-ee436a0a92d6\"}, \"nonselection_glyph\": null, \"glyph\": {\"type\": \"Rect\", \"id\": \"0ceaa5d0-de8e-46ed-bbfe-5a911c57b2de\"}, \"selection_glyph\": null}, \"id\": \"b5eb4482-9b02-4062-b1f8-c91fa6faf5a9\"}, {\"type\": \"ColumnDataSource\", \"attributes\": {\"data\": {\"color\": [\"#f22c40\"], \"chart_index\": [{\"cyl\": 8}], \"cyl\": [8], \"height\": [1541.2000000000003], \"fill_alpha\": [0.8], \"line_color\": [\"white\"], \"x\": [\"8\"], \"width\": [0.8], \"y\": [770.6000000000001], \"line_alpha\": [1.0]}, \"callback\": null, \"column_names\": [\"color\", \"x\", \"line_color\", \"fill_alpha\", \"height\", \"width\", \"y\", \"line_alpha\"]}, \"id\": \"aa493d44-a25b-4b36-8151-e90d90a8856d\"}, {\"type\": \"Range1d\", \"attributes\": {\"callback\": null, \"end\": 6118.875000000002}, \"id\": \"50b90255-306c-476b-89e6-f9cac7c0410d\"}, {\"type\": \"BasicTickFormatter\", \"attributes\": {}, \"id\": \"eb15bc98-167d-44b2-9e42-a80c529c2b91\"}, {\"type\": \"GlyphRenderer\", \"attributes\": {\"hover_glyph\": null, \"data_source\": {\"type\": \"ColumnDataSource\", \"id\": \"2882b120-090d-4f58-982e-d11d31435f40\"}, \"nonselection_glyph\": null, \"glyph\": {\"type\": \"Rect\", \"id\": \"b4a4af38-fb59-4757-b4f8-d0af45e12879\"}, \"selection_glyph\": null}, \"id\": \"107d3800-ed0b-427e-916e-e7bd47c37521\"}, {\"type\": \"PanTool\", \"attributes\": {\"plot\": {\"type\": \"Plot\", \"subtype\": \"Chart\", \"id\": \"ffde25bc-32d1-4f1c-acbe-12fd75018f5b\"}}, \"id\": \"2e1f4178-3f55-4633-87ff-9adf2fc9500e\"}, {\"type\": \"BoxZoomTool\", \"attributes\": {\"overlay\": {\"type\": \"BoxAnnotation\", \"id\": \"17f69de7-8358-4c01-91b9-692b3f411351\"}, \"plot\": {\"type\": \"Plot\", \"subtype\": \"Chart\", \"id\": \"ffde25bc-32d1-4f1c-acbe-12fd75018f5b\"}}, \"id\": \"73e751e1-be39-45b7-b583-15259f9f2ea8\"}, {\"type\": \"GlyphRenderer\", \"attributes\": {\"hover_glyph\": null, \"data_source\": {\"type\": \"ColumnDataSource\", \"id\": \"497e4307-fc1c-4408-b402-b08bd8ff59ac\"}, \"nonselection_glyph\": null, \"glyph\": {\"type\": \"Rect\", \"id\": \"3db9671b-2fe9-46f0-b721-cf691cf0b17d\"}, \"selection_glyph\": null}, \"id\": \"cf2a17ca-301a-4984-8ac4-90eb6205563b\"}, {\"type\": \"LinearAxis\", \"attributes\": {\"ticker\": {\"type\": \"BasicTicker\", \"id\": \"719d2bcf-e369-4879-b3eb-6827d5b1f4f9\"}, \"formatter\": {\"type\": \"BasicTickFormatter\", \"id\": \"eb15bc98-167d-44b2-9e42-a80c529c2b91\"}, \"axis_label\": \"Sum( Mpg )\", \"plot\": {\"type\": \"Plot\", \"subtype\": \"Chart\", \"id\": \"512299af-484c-4fc2-ba10-ec94436b1958\"}}, \"id\": \"9d9e3d2a-c087-41b1-85af-f6e94606244b\"}, {\"type\": \"ColumnDataSource\", \"attributes\": {\"data\": {\"color\": [\"#f22c40\"], \"chart_index\": [{\"cyl\": 3}], \"cyl\": [3], \"height\": [82.2], \"fill_alpha\": [0.8], \"line_color\": [\"white\"], \"x\": [\"3\"], \"width\": [0.8], \"y\": [41.1], \"line_alpha\": [1.0]}, \"callback\": null, \"column_names\": [\"color\", \"x\", \"line_color\", \"fill_alpha\", \"height\", \"width\", \"y\", \"line_alpha\"]}, \"id\": \"b2967236-c3d9-4a30-9c1d-02befc5bc7ec\"}, {\"type\": \"BoxZoomTool\", \"attributes\": {\"overlay\": {\"type\": \"BoxAnnotation\", \"id\": \"318d1899-c72d-4122-8671-145aa691dc5b\"}, \"plot\": {\"type\": \"Plot\", \"subtype\": \"Chart\", \"id\": \"512299af-484c-4fc2-ba10-ec94436b1958\"}}, \"id\": \"7fcfae42-0d13-470f-a47a-3fd07d395e15\"}, {\"type\": \"ColumnDataSource\", \"attributes\": {\"data\": {\"color\": [\"#f22c40\"], \"chart_index\": [{\"cyl\": 4}], \"cyl\": [4], \"height\": [5827.500000000002], \"fill_alpha\": [0.8], \"line_color\": [\"white\"], \"x\": [\"4\"], \"width\": [0.8], \"y\": [2913.750000000001], \"line_alpha\": [1.0]}, \"callback\": null, \"column_names\": [\"color\", \"x\", \"line_color\", \"fill_alpha\", \"height\", \"width\", \"y\", \"line_alpha\"]}, \"id\": \"4249936c-0cff-4e72-b317-c2ef76b55b61\"}, {\"type\": \"PreviewSaveTool\", \"attributes\": {\"plot\": {\"type\": \"Plot\", \"subtype\": \"Chart\", \"id\": \"ffde25bc-32d1-4f1c-acbe-12fd75018f5b\"}}, \"id\": \"901d75ed-2ce2-4913-a050-17ba349c9af2\"}, {\"type\": \"CategoricalTickFormatter\", \"attributes\": {}, \"id\": \"d78248be-a0fc-49fa-9ae7-e2072db33bb1\"}, {\"type\": \"ColumnDataSource\", \"attributes\": {\"data\": {\"color\": [\"#f22c40\"], \"chart_index\": [{\"cyl\": 4}], \"cyl\": [4], \"height\": [5827.500000000002], \"fill_alpha\": [0.8], \"line_color\": [\"white\"], \"x\": [\"4\"], \"width\": [0.8], \"y\": [2913.750000000001], \"line_alpha\": [1.0]}, \"callback\": null, \"column_names\": [\"color\", \"x\", \"line_color\", \"fill_alpha\", \"height\", \"width\", \"y\", \"line_alpha\"]}, \"id\": \"51b9b988-c417-466a-9c64-ee436a0a92d6\"}, {\"type\": \"CategoricalTicker\", \"attributes\": {}, \"id\": \"0cd352ee-ac3a-441a-a841-274c7bcfd1bd\"}, {\"type\": \"CategoricalAxis\", \"attributes\": {\"ticker\": {\"type\": \"CategoricalTicker\", \"id\": \"bdf199b5-ce54-447e-b559-681c466b085f\"}, \"formatter\": {\"type\": \"CategoricalTickFormatter\", \"id\": \"b245ebc4-34a4-4d63-8c15-5b249f207a74\"}, \"axis_label\": \"Cyl\", \"plot\": {\"type\": \"Plot\", \"subtype\": \"Chart\", \"id\": \"512299af-484c-4fc2-ba10-ec94436b1958\"}, \"major_label_orientation\": 0.7853981633974483}, \"id\": \"a91bc3f3-3f4d-4fe4-b7ff-135cc67fea82\"}, {\"type\": \"ColumnDataSource\", \"attributes\": {\"data\": {\"color\": [\"#f22c40\"], \"chart_index\": [{\"cyl\": 5}], \"cyl\": [5], \"height\": [82.1], \"fill_alpha\": [0.8], \"line_color\": [\"white\"], \"x\": [\"5\"], \"width\": [0.8], \"y\": [41.05], \"line_alpha\": [1.0]}, \"callback\": null, \"column_names\": [\"color\", \"x\", \"line_color\", \"fill_alpha\", \"height\", \"width\", \"y\", \"line_alpha\"]}, \"id\": \"29cfb274-ea13-43dc-ba14-7541380f0880\"}, {\"type\": \"BasicTicker\", \"attributes\": {}, \"id\": \"47a5b175-03ef-420f-b421-85261805d90d\"}, {\"type\": \"ColumnDataSource\", \"attributes\": {\"data\": {\"color\": [\"#f22c40\"], \"chart_index\": [{\"cyl\": 8}], \"cyl\": [8], \"height\": [1541.2000000000003], \"fill_alpha\": [0.8], \"line_color\": [\"white\"], \"x\": [\"8\"], \"width\": [0.8], \"y\": [770.6000000000001], \"line_alpha\": [1.0]}, \"callback\": null, \"column_names\": [\"color\", \"x\", \"line_color\", \"fill_alpha\", \"height\", \"width\", \"y\", \"line_alpha\"]}, \"id\": \"2882b120-090d-4f58-982e-d11d31435f40\"}, {\"type\": \"Rect\", \"attributes\": {\"fill_alpha\": {\"field\": \"fill_alpha\"}, \"x\": {\"field\": \"x\"}, \"line_color\": {\"field\": \"line_color\"}, \"fill_color\": {\"field\": \"color\"}, \"width\": {\"field\": \"width\", \"units\": \"data\"}, \"y\": {\"field\": \"y\"}, \"height\": {\"field\": \"height\", \"units\": \"data\"}}, \"id\": \"dff0827c-a788-4689-9d78-af86a18a652e\"}, {\"type\": \"PanTool\", \"attributes\": {\"plot\": {\"type\": \"Plot\", \"subtype\": \"Chart\", \"id\": \"512299af-484c-4fc2-ba10-ec94436b1958\"}}, \"id\": \"57068c49-fe65-49f0-98ef-6c5e24739598\"}, {\"type\": \"Rect\", \"attributes\": {\"fill_alpha\": {\"field\": \"fill_alpha\"}, \"x\": {\"field\": \"x\"}, \"line_color\": {\"field\": \"line_color\"}, \"fill_color\": {\"field\": \"color\"}, \"width\": {\"field\": \"width\", \"units\": \"data\"}, \"y\": {\"field\": \"y\"}, \"height\": {\"field\": \"height\", \"units\": \"data\"}}, \"id\": \"0ceaa5d0-de8e-46ed-bbfe-5a911c57b2de\"}, {\"type\": \"ResizeTool\", \"attributes\": {\"plot\": {\"type\": \"Plot\", \"subtype\": \"Chart\", \"id\": \"512299af-484c-4fc2-ba10-ec94436b1958\"}}, \"id\": \"23d99123-7c45-4b00-8716-d3d3ce351db0\"}]}, \"version\": \"0.11.0\", \"title\": \"Bokeh Application\"}};\n",
       "            var render_items = [{\"docid\": \"4e3ee661-5640-47b6-94ab-a2b39b880d1c\", \"notebook_comms_target\": \"29c61a68-bfe1-4088-b38a-07b7f0c1244c\", \"modelid\": \"ffde25bc-32d1-4f1c-acbe-12fd75018f5b\", \"elementid\": \"056fccf4-705b-4f9b-849f-9def756498a6\"}];\n",
       "            \n",
       "            Bokeh.embed.embed_items(docs_json, render_items);\n",
       "        });\n",
       "      },\n",
       "      function(Bokeh) {\n",
       "      }\n",
       "    ];\n",
       "  \n",
       "    function run_inline_js() {\n",
       "      for (var i = 0; i < inline_js.length; i++) {\n",
       "        inline_js[i](window.Bokeh);\n",
       "      }\n",
       "    }\n",
       "  \n",
       "    if (window._bokeh_is_loading === 0) {\n",
       "      console.log(\"Bokeh: BokehJS loaded, going straight to plotting\");\n",
       "      run_inline_js();\n",
       "    } else {\n",
       "      load_libs(js_urls, function() {\n",
       "        console.log(\"Bokeh: BokehJS plotting callback run at\", now());\n",
       "        run_inline_js();\n",
       "      });\n",
       "    }\n",
       "  }(this));\n",
       "</script>"
      ]
     },
     "metadata": {},
     "output_type": "display_data"
    },
    {
     "data": {
      "text/plain": [
       "<bokeh.io._CommsHandle at 0xc254d3c588>"
      ]
     },
     "execution_count": 2,
     "metadata": {},
     "output_type": "execute_result"
    }
   ],
   "source": [
    "from bokeh.charts import Bar, output_file, show\n",
    "from bokeh.sampledata.autompg import autompg as df\n",
    "\n",
    "p = Bar(df, 'cyl', values='mpg', title=\"Total MPG by CYL\", notebook=True)\n",
    "output_file(\"bar.html\")\n",
    "show(p)"
   ]
  },
  {
   "cell_type": "markdown",
   "metadata": {},
   "source": [
    "###Herramientas externas para la visualización de datos"
   ]
  },
  {
   "cell_type": "markdown",
   "metadata": {},
   "source": [
    "* Tableau\n",
    "* raw.io (http://app.raw.densitydesign.org/)\n",
    "* easil.ly"
   ]
  },
  {
   "cell_type": "markdown",
   "metadata": {},
   "source": [
    "###La vaca sagrada\n",
    "#D3"
   ]
  },
  {
   "cell_type": "markdown",
   "metadata": {},
   "source": [
    "###Actividad: Elige cualquiera de los métodos que vimos, y visualiza el resultado del análisis que hicimos durante el workshop"
   ]
  },
  {
   "cell_type": "markdown",
   "metadata": {},
   "source": [
    "###Recursos:\n",
    "* http://www.cs171.org/2016/index.html\n",
    "* https://github.com/rodowi/geo-is-osm\n",
    "* http://blog.hubspot.com/marketing/excel-graph-tricks-list"
   ]
  },
  {
   "cell_type": "code",
   "execution_count": null,
   "metadata": {
    "collapsed": true
   },
   "outputs": [],
   "source": []
  }
 ],
 "metadata": {
  "kernelspec": {
   "display_name": "Python 3",
   "language": "python",
   "name": "python3"
  },
  "language_info": {
   "codemirror_mode": {
    "name": "ipython",
    "version": 3
   },
   "file_extension": ".py",
   "mimetype": "text/x-python",
   "name": "python",
   "nbconvert_exporter": "python",
   "pygments_lexer": "ipython3",
   "version": "3.5.1"
  }
 },
 "nbformat": 4,
 "nbformat_minor": 0
}
